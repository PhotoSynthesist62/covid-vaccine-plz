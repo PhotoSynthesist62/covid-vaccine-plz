{
 "cells": [
  {
   "cell_type": "code",
   "execution_count": 1,
   "metadata": {},
   "outputs": [],
   "source": [
    "import os, ssl\n",
    "import requests\n",
    "import pandas as pd\n",
    "from splinter import Browser\n",
    "from bs4 import BeautifulSoup as bs"
   ]
  },
  {
   "cell_type": "code",
   "execution_count": 2,
   "metadata": {},
   "outputs": [],
   "source": [
    "executable_path = {'executable_path': 'chromedriver.exe'}\n",
    "browser = Browser('chrome', **executable_path, headless=False)"
   ]
  },
  {
   "cell_type": "markdown",
   "metadata": {},
   "source": [
    "# Covid Cases per City in OC  "
   ]
  },
  {
   "cell_type": "code",
   "execution_count": 3,
   "metadata": {},
   "outputs": [],
   "source": [
    "url = \"https://ochca.maps.arcgis.com/apps/opsdashboard/index.html#/5839a554eaac45c2b8e05dacc74c3bec\"\n",
    "browser.visit(url)"
   ]
  },
  {
   "cell_type": "code",
   "execution_count": 4,
   "metadata": {},
   "outputs": [],
   "source": [
    "html = browser.html\n",
    "soup = bs(html,'html.parser')\n",
    "data = soup.find_all(\"div\", class_=\"external-html\")"
   ]
  },
  {
   "cell_type": "code",
   "execution_count": 5,
   "metadata": {},
   "outputs": [],
   "source": [
    "confirmed_case_city = []\n",
    "for i in data:\n",
    "    a = i.find(\"p\").text\n",
    "    b = a.split(\"-\")\n",
    "    city_name = b[0][:-1]\n",
    "    confirmed_case = b[1].split(\" \")[0][1:-6]\n",
    "    if(confirmed_case):\n",
    "        confirmed_case_city.append([city_name,confirmed_case])    "
   ]
  },
  {
   "cell_type": "code",
   "execution_count": 6,
   "metadata": {},
   "outputs": [],
   "source": [
    "oc_case_df = pd.DataFrame(confirmed_case_city)"
   ]
  },
  {
   "cell_type": "code",
   "execution_count": 7,
   "metadata": {},
   "outputs": [],
   "source": [
    "oc_case_df.columns = [\"City\", \"Confirmed_case\"]"
   ]
  },
  {
   "cell_type": "code",
   "execution_count": 8,
   "metadata": {
    "scrolled": true
   },
   "outputs": [
    {
     "data": {
      "text/html": [
       "<div>\n",
       "<style scoped>\n",
       "    .dataframe tbody tr th:only-of-type {\n",
       "        vertical-align: middle;\n",
       "    }\n",
       "\n",
       "    .dataframe tbody tr th {\n",
       "        vertical-align: top;\n",
       "    }\n",
       "\n",
       "    .dataframe thead th {\n",
       "        text-align: right;\n",
       "    }\n",
       "</style>\n",
       "<table border=\"1\" class=\"dataframe\">\n",
       "  <thead>\n",
       "    <tr style=\"text-align: right;\">\n",
       "      <th></th>\n",
       "      <th>City</th>\n",
       "      <th>Confirmed_case</th>\n",
       "    </tr>\n",
       "  </thead>\n",
       "  <tbody>\n",
       "    <tr>\n",
       "      <th>0</th>\n",
       "      <td>Aliso Viejo</td>\n",
       "      <td>194</td>\n",
       "    </tr>\n",
       "    <tr>\n",
       "      <th>1</th>\n",
       "      <td>Anaheim</td>\n",
       "      <td>4385</td>\n",
       "    </tr>\n",
       "    <tr>\n",
       "      <th>2</th>\n",
       "      <td>Brea</td>\n",
       "      <td>222</td>\n",
       "    </tr>\n",
       "    <tr>\n",
       "      <th>3</th>\n",
       "      <td>Buena Park</td>\n",
       "      <td>691</td>\n",
       "    </tr>\n",
       "    <tr>\n",
       "      <th>4</th>\n",
       "      <td>Costa Mesa</td>\n",
       "      <td>773</td>\n",
       "    </tr>\n",
       "  </tbody>\n",
       "</table>\n",
       "</div>"
      ],
      "text/plain": [
       "          City Confirmed_case\n",
       "0  Aliso Viejo            194\n",
       "1      Anaheim           4385\n",
       "2         Brea            222\n",
       "3   Buena Park            691\n",
       "4   Costa Mesa            773"
      ]
     },
     "execution_count": 8,
     "metadata": {},
     "output_type": "execute_result"
    }
   ],
   "source": [
    "oc_case_df.head()"
   ]
  },
  {
   "cell_type": "markdown",
   "metadata": {},
   "source": [
    "# Covid Cases per City in LA County¶"
   ]
  },
  {
   "cell_type": "code",
   "execution_count": 9,
   "metadata": {},
   "outputs": [],
   "source": [
    "url = \"http://publichealth.lacounty.gov/media/Coronavirus/locations.htm\"\n",
    "browser.visit(url)"
   ]
  },
  {
   "cell_type": "code",
   "execution_count": 10,
   "metadata": {},
   "outputs": [],
   "source": [
    "html = browser.html\n",
    "soup = bs(html,'html.parser')\n",
    "data = soup.find_all(\"tr\")"
   ]
  },
  {
   "cell_type": "code",
   "execution_count": 11,
   "metadata": {},
   "outputs": [],
   "source": [
    "LA_case = []\n",
    "for row in data:\n",
    "    list_td = row.find_all(\"td\")\n",
    "    temp_list = []\n",
    "    for item in list_td:\n",
    "        if(item.text):\n",
    "            temp_list.append(item.text)\n",
    "    if(temp_list):\n",
    "        if \"City of \" in temp_list[0]:\n",
    "            city_data = temp_list[0][8:];\n",
    "            temp_list[0] = city_data;\n",
    "            LA_case.append(temp_list)"
   ]
  },
  {
   "cell_type": "code",
   "execution_count": 12,
   "metadata": {},
   "outputs": [],
   "source": [
    "la_case_df = pd.DataFrame(LA_case)\n",
    "la_case_df.columns= [\"City\", \"Confirmed_case\", \"Case_Rate\", \"Deaths\", \"Death_Rate\"]"
   ]
  },
  {
   "cell_type": "code",
   "execution_count": 13,
   "metadata": {
    "scrolled": true
   },
   "outputs": [
    {
     "data": {
      "text/html": [
       "<div>\n",
       "<style scoped>\n",
       "    .dataframe tbody tr th:only-of-type {\n",
       "        vertical-align: middle;\n",
       "    }\n",
       "\n",
       "    .dataframe tbody tr th {\n",
       "        vertical-align: top;\n",
       "    }\n",
       "\n",
       "    .dataframe thead th {\n",
       "        text-align: right;\n",
       "    }\n",
       "</style>\n",
       "<table border=\"1\" class=\"dataframe\">\n",
       "  <thead>\n",
       "    <tr style=\"text-align: right;\">\n",
       "      <th></th>\n",
       "      <th>City</th>\n",
       "      <th>Confirmed_case</th>\n",
       "      <th>Case_Rate</th>\n",
       "      <th>Deaths</th>\n",
       "      <th>Death_Rate</th>\n",
       "    </tr>\n",
       "  </thead>\n",
       "  <tbody>\n",
       "    <tr>\n",
       "      <th>0</th>\n",
       "      <td>Agoura Hills</td>\n",
       "      <td>76</td>\n",
       "      <td>364</td>\n",
       "      <td>1</td>\n",
       "      <td>5</td>\n",
       "    </tr>\n",
       "    <tr>\n",
       "      <th>1</th>\n",
       "      <td>Alhambra</td>\n",
       "      <td>616</td>\n",
       "      <td>710</td>\n",
       "      <td>11</td>\n",
       "      <td>13</td>\n",
       "    </tr>\n",
       "    <tr>\n",
       "      <th>2</th>\n",
       "      <td>Arcadia</td>\n",
       "      <td>234</td>\n",
       "      <td>405</td>\n",
       "      <td>11</td>\n",
       "      <td>19</td>\n",
       "    </tr>\n",
       "    <tr>\n",
       "      <th>3</th>\n",
       "      <td>Artesia</td>\n",
       "      <td>163</td>\n",
       "      <td>971</td>\n",
       "      <td>3</td>\n",
       "      <td>18</td>\n",
       "    </tr>\n",
       "    <tr>\n",
       "      <th>4</th>\n",
       "      <td>Avalon</td>\n",
       "      <td>5</td>\n",
       "      <td>129</td>\n",
       "      <td>0</td>\n",
       "      <td>0</td>\n",
       "    </tr>\n",
       "  </tbody>\n",
       "</table>\n",
       "</div>"
      ],
      "text/plain": [
       "           City Confirmed_case Case_Rate Deaths Death_Rate\n",
       "0  Agoura Hills             76       364      1          5\n",
       "1      Alhambra            616       710     11         13\n",
       "2       Arcadia            234       405     11         19\n",
       "3       Artesia            163       971      3         18\n",
       "4        Avalon              5       129      0          0"
      ]
     },
     "execution_count": 13,
     "metadata": {},
     "output_type": "execute_result"
    }
   ],
   "source": [
    "la_case_df.head()"
   ]
  },
  {
   "cell_type": "markdown",
   "metadata": {},
   "source": [
    "# Covid Cases per City in San Diego County"
   ]
  },
  {
   "cell_type": "code",
   "execution_count": 14,
   "metadata": {},
   "outputs": [],
   "source": [
    "import tabula\n",
    "from tabula import read_pdf"
   ]
  },
  {
   "cell_type": "code",
   "execution_count": 15,
   "metadata": {},
   "outputs": [],
   "source": [
    "url = \"https://www.sandiegocounty.gov/content/dam/sdc/hhsa/programs/phs/Epidemiology/COVID-19%20Daily%20Update_City%20of%20Residence.pdf\""
   ]
  },
  {
   "cell_type": "code",
   "execution_count": 16,
   "metadata": {
    "scrolled": true
   },
   "outputs": [
    {
     "name": "stderr",
     "output_type": "stream",
     "text": [
      "'pages' argument isn't specified.Will extract only from page 1 by default.\n"
     ]
    }
   ],
   "source": [
    "df = read_pdf(url)"
   ]
  },
  {
   "cell_type": "code",
   "execution_count": 17,
   "metadata": {},
   "outputs": [],
   "source": [
    "sandiego_df = df[0].drop([0])"
   ]
  },
  {
   "cell_type": "code",
   "execution_count": 18,
   "metadata": {},
   "outputs": [
    {
     "data": {
      "text/html": [
       "<div>\n",
       "<style scoped>\n",
       "    .dataframe tbody tr th:only-of-type {\n",
       "        vertical-align: middle;\n",
       "    }\n",
       "\n",
       "    .dataframe tbody tr th {\n",
       "        vertical-align: top;\n",
       "    }\n",
       "\n",
       "    .dataframe thead th {\n",
       "        text-align: right;\n",
       "    }\n",
       "</style>\n",
       "<table border=\"1\" class=\"dataframe\">\n",
       "  <thead>\n",
       "    <tr style=\"text-align: right;\">\n",
       "      <th></th>\n",
       "      <th>Unnamed: 0</th>\n",
       "      <th>Summary of COVID-19 Cases by City of Residence, San Diego County</th>\n",
       "    </tr>\n",
       "  </thead>\n",
       "  <tbody>\n",
       "    <tr>\n",
       "      <th>1</th>\n",
       "      <td>Incorporated City</td>\n",
       "      <td>17,580 87.5% 622.4</td>\n",
       "    </tr>\n",
       "    <tr>\n",
       "      <th>2</th>\n",
       "      <td>Carlsbad</td>\n",
       "      <td>318 1.6% 277.4</td>\n",
       "    </tr>\n",
       "    <tr>\n",
       "      <th>3</th>\n",
       "      <td>Chula Vista</td>\n",
       "      <td>2,665 13.3% 996.3</td>\n",
       "    </tr>\n",
       "    <tr>\n",
       "      <th>4</th>\n",
       "      <td>Coronado</td>\n",
       "      <td>79 0.4% 364.3</td>\n",
       "    </tr>\n",
       "    <tr>\n",
       "      <th>5</th>\n",
       "      <td>Del Mar</td>\n",
       "      <td>24 0.1% ***</td>\n",
       "    </tr>\n",
       "  </tbody>\n",
       "</table>\n",
       "</div>"
      ],
      "text/plain": [
       "          Unnamed: 0  \\\n",
       "1  Incorporated City   \n",
       "2           Carlsbad   \n",
       "3        Chula Vista   \n",
       "4           Coronado   \n",
       "5            Del Mar   \n",
       "\n",
       "  Summary of COVID-19 Cases by City of Residence, San Diego County  \n",
       "1                                 17,580 87.5% 622.4                \n",
       "2                                     318 1.6% 277.4                \n",
       "3                                  2,665 13.3% 996.3                \n",
       "4                                      79 0.4% 364.3                \n",
       "5                                        24 0.1% ***                "
      ]
     },
     "execution_count": 18,
     "metadata": {},
     "output_type": "execute_result"
    }
   ],
   "source": [
    "sandiego_df.head()"
   ]
  },
  {
   "cell_type": "code",
   "execution_count": 19,
   "metadata": {
    "scrolled": true
   },
   "outputs": [],
   "source": [
    "for index,row in sandiego_df.iterrows():\n",
    "    split_data = row[1].split()\n",
    "    length = len(split_data)\n",
    "    count = split_data[0]\n",
    "    if(length==3):\n",
    "        percentage_total = split_data[1]\n",
    "        rate_per_100000 = split_data[2]\n",
    "    elif (length==2):\n",
    "        percentage_total = split_data[1]\n",
    "        rate_per_100000 = \"\"\n",
    "    elif(length==1):\n",
    "        percentage_total = \"\"\n",
    "        rate_per_100000 = \"\"\n",
    "    sandiego_df.loc[index,\"count\"] = count\n",
    "    sandiego_df.loc[index,\"percentage_total\"] = percentage_total\n",
    "    sandiego_df.loc[index,\"rate_per_100000\"] = rate_per_100000"
   ]
  },
  {
   "cell_type": "code",
   "execution_count": 20,
   "metadata": {},
   "outputs": [],
   "source": [
    "sandiego_df.columns = [\"City\", \"Summary\", \"Count\", \"Total_Rate\", \"Rate_per_10000\"]"
   ]
  },
  {
   "cell_type": "code",
   "execution_count": 21,
   "metadata": {
    "scrolled": true
   },
   "outputs": [],
   "source": [
    "sandiego_df.drop([\"Summary\"], axis=1, inplace=True)"
   ]
  },
  {
   "cell_type": "code",
   "execution_count": 22,
   "metadata": {},
   "outputs": [
    {
     "data": {
      "text/html": [
       "<div>\n",
       "<style scoped>\n",
       "    .dataframe tbody tr th:only-of-type {\n",
       "        vertical-align: middle;\n",
       "    }\n",
       "\n",
       "    .dataframe tbody tr th {\n",
       "        vertical-align: top;\n",
       "    }\n",
       "\n",
       "    .dataframe thead th {\n",
       "        text-align: right;\n",
       "    }\n",
       "</style>\n",
       "<table border=\"1\" class=\"dataframe\">\n",
       "  <thead>\n",
       "    <tr style=\"text-align: right;\">\n",
       "      <th></th>\n",
       "      <th>City</th>\n",
       "      <th>Count</th>\n",
       "      <th>Total_Rate</th>\n",
       "      <th>Rate_per_10000</th>\n",
       "    </tr>\n",
       "  </thead>\n",
       "  <tbody>\n",
       "    <tr>\n",
       "      <th>1</th>\n",
       "      <td>Incorporated City</td>\n",
       "      <td>17,580</td>\n",
       "      <td>87.5%</td>\n",
       "      <td>622.4</td>\n",
       "    </tr>\n",
       "    <tr>\n",
       "      <th>2</th>\n",
       "      <td>Carlsbad</td>\n",
       "      <td>318</td>\n",
       "      <td>1.6%</td>\n",
       "      <td>277.4</td>\n",
       "    </tr>\n",
       "    <tr>\n",
       "      <th>3</th>\n",
       "      <td>Chula Vista</td>\n",
       "      <td>2,665</td>\n",
       "      <td>13.3%</td>\n",
       "      <td>996.3</td>\n",
       "    </tr>\n",
       "    <tr>\n",
       "      <th>4</th>\n",
       "      <td>Coronado</td>\n",
       "      <td>79</td>\n",
       "      <td>0.4%</td>\n",
       "      <td>364.3</td>\n",
       "    </tr>\n",
       "    <tr>\n",
       "      <th>5</th>\n",
       "      <td>Del Mar</td>\n",
       "      <td>24</td>\n",
       "      <td>0.1%</td>\n",
       "      <td>***</td>\n",
       "    </tr>\n",
       "  </tbody>\n",
       "</table>\n",
       "</div>"
      ],
      "text/plain": [
       "                City   Count Total_Rate Rate_per_10000\n",
       "1  Incorporated City  17,580      87.5%          622.4\n",
       "2           Carlsbad     318       1.6%          277.4\n",
       "3        Chula Vista   2,665      13.3%          996.3\n",
       "4           Coronado      79       0.4%          364.3\n",
       "5            Del Mar      24       0.1%            ***"
      ]
     },
     "execution_count": 22,
     "metadata": {},
     "output_type": "execute_result"
    }
   ],
   "source": [
    "sandiego_df.head()"
   ]
  },
  {
   "cell_type": "markdown",
   "metadata": {},
   "source": [
    "# Covid Cases per City in Santa Barbara County"
   ]
  },
  {
   "cell_type": "code",
   "execution_count": 23,
   "metadata": {},
   "outputs": [],
   "source": [
    "url = \"https://publichealthsbc.org/status-reports/\"\n",
    "browser.visit(url)"
   ]
  },
  {
   "cell_type": "code",
   "execution_count": 24,
   "metadata": {},
   "outputs": [],
   "source": [
    "html = browser.html\n",
    "soup = bs(html,'html.parser')\n",
    "data = soup.find_all(\"table\")"
   ]
  },
  {
   "cell_type": "code",
   "execution_count": 25,
   "metadata": {},
   "outputs": [],
   "source": [
    "a = data[0].find_all(\"tr\")"
   ]
  },
  {
   "cell_type": "code",
   "execution_count": 26,
   "metadata": {},
   "outputs": [],
   "source": [
    "sb_list = []\n",
    "for i in a:\n",
    "    j = i.find_all(\"td\")\n",
    "    temp_data = []\n",
    "    for data in j:\n",
    "        temp_data.append(data.text)\n",
    "    sb_list.append(temp_data)\n"
   ]
  },
  {
   "cell_type": "code",
   "execution_count": 27,
   "metadata": {},
   "outputs": [],
   "source": [
    "sb_df = pd.DataFrame(sb_list)"
   ]
  },
  {
   "cell_type": "code",
   "execution_count": 28,
   "metadata": {},
   "outputs": [],
   "source": [
    "sb_df.columns = list(sb_df.iloc[0])"
   ]
  },
  {
   "cell_type": "code",
   "execution_count": 29,
   "metadata": {},
   "outputs": [],
   "source": [
    "sb_df.drop([0],inplace=True)"
   ]
  },
  {
   "cell_type": "code",
   "execution_count": 30,
   "metadata": {},
   "outputs": [
    {
     "data": {
      "text/html": [
       "<div>\n",
       "<style scoped>\n",
       "    .dataframe tbody tr th:only-of-type {\n",
       "        vertical-align: middle;\n",
       "    }\n",
       "\n",
       "    .dataframe tbody tr th {\n",
       "        vertical-align: top;\n",
       "    }\n",
       "\n",
       "    .dataframe thead th {\n",
       "        text-align: right;\n",
       "    }\n",
       "</style>\n",
       "<table border=\"1\" class=\"dataframe\">\n",
       "  <thead>\n",
       "    <tr style=\"text-align: right;\">\n",
       "      <th></th>\n",
       "      <th>Geographic Area as of 7/13/2020</th>\n",
       "      <th>DailyCases</th>\n",
       "      <th>Total Confirmed Cases</th>\n",
       "      <th>Recovered by Region</th>\n",
       "      <th>Active Cases by Region</th>\n",
       "      <th>Number of Deaths</th>\n",
       "    </tr>\n",
       "  </thead>\n",
       "  <tbody>\n",
       "    <tr>\n",
       "      <th>1</th>\n",
       "      <td>SOUTH COUNTY UNINCORPORATED AREA includes comm...</td>\n",
       "      <td>1</td>\n",
       "      <td>77</td>\n",
       "      <td>69</td>\n",
       "      <td>7</td>\n",
       "      <td>0</td>\n",
       "    </tr>\n",
       "    <tr>\n",
       "      <th>2</th>\n",
       "      <td>CITY OF SANTA BARBARA and the unincorporated a...</td>\n",
       "      <td>4</td>\n",
       "      <td>471</td>\n",
       "      <td>417</td>\n",
       "      <td>52</td>\n",
       "      <td>3</td>\n",
       "    </tr>\n",
       "    <tr>\n",
       "      <th>3</th>\n",
       "      <td>CITY OF GOLETA</td>\n",
       "      <td>1</td>\n",
       "      <td>85</td>\n",
       "      <td>71</td>\n",
       "      <td>12</td>\n",
       "      <td>2</td>\n",
       "    </tr>\n",
       "    <tr>\n",
       "      <th>4</th>\n",
       "      <td>COMMUNITY OF ISLA VISTA</td>\n",
       "      <td>1</td>\n",
       "      <td>28</td>\n",
       "      <td>24</td>\n",
       "      <td>4</td>\n",
       "      <td>0</td>\n",
       "    </tr>\n",
       "    <tr>\n",
       "      <th>5</th>\n",
       "      <td>UNINCORPORATED AREA OF THE GOLETA VALLEY AND G...</td>\n",
       "      <td>2</td>\n",
       "      <td>68</td>\n",
       "      <td>61</td>\n",
       "      <td>6</td>\n",
       "      <td>1</td>\n",
       "    </tr>\n",
       "    <tr>\n",
       "      <th>6</th>\n",
       "      <td>SANTA YNEZ VALLEY including the Cities of Solv...</td>\n",
       "      <td>0</td>\n",
       "      <td>34</td>\n",
       "      <td>27</td>\n",
       "      <td>7</td>\n",
       "      <td>0</td>\n",
       "    </tr>\n",
       "    <tr>\n",
       "      <th>7</th>\n",
       "      <td>CITY OF LOMPOC and the communities of Mission ...</td>\n",
       "      <td>1</td>\n",
       "      <td>226</td>\n",
       "      <td>197</td>\n",
       "      <td>25</td>\n",
       "      <td>4</td>\n",
       "    </tr>\n",
       "    <tr>\n",
       "      <th>8</th>\n",
       "      <td>FEDERAL PRISON IN LOMPOC</td>\n",
       "      <td>0</td>\n",
       "      <td>998</td>\n",
       "      <td>994</td>\n",
       "      <td>1</td>\n",
       "      <td>3</td>\n",
       "    </tr>\n",
       "    <tr>\n",
       "      <th>9</th>\n",
       "      <td>CITY OF SANTA MARIA</td>\n",
       "      <td>38</td>\n",
       "      <td>1754</td>\n",
       "      <td>1570</td>\n",
       "      <td>167</td>\n",
       "      <td>18</td>\n",
       "    </tr>\n",
       "    <tr>\n",
       "      <th>10</th>\n",
       "      <td>COMMUNITY OF ORCUTT</td>\n",
       "      <td>2</td>\n",
       "      <td>123</td>\n",
       "      <td>108</td>\n",
       "      <td>14</td>\n",
       "      <td>0</td>\n",
       "    </tr>\n",
       "    <tr>\n",
       "      <th>11</th>\n",
       "      <td>UNINCORPORATED AREAS of Sisquoc, Casmalia, Gar...</td>\n",
       "      <td>3</td>\n",
       "      <td>165</td>\n",
       "      <td>151</td>\n",
       "      <td>14</td>\n",
       "      <td>0</td>\n",
       "    </tr>\n",
       "    <tr>\n",
       "      <th>12</th>\n",
       "      <td>Out of County</td>\n",
       "      <td>—</td>\n",
       "      <td>—</td>\n",
       "      <td>0</td>\n",
       "      <td>0</td>\n",
       "      <td>—</td>\n",
       "    </tr>\n",
       "    <tr>\n",
       "      <th>13</th>\n",
       "      <td>Pending</td>\n",
       "      <td>3</td>\n",
       "      <td>111</td>\n",
       "      <td>91</td>\n",
       "      <td>20</td>\n",
       "      <td>—</td>\n",
       "    </tr>\n",
       "    <tr>\n",
       "      <th>14</th>\n",
       "      <td>Total</td>\n",
       "      <td>56</td>\n",
       "      <td>4140</td>\n",
       "      <td>3780</td>\n",
       "      <td>329</td>\n",
       "      <td>31</td>\n",
       "    </tr>\n",
       "  </tbody>\n",
       "</table>\n",
       "</div>"
      ],
      "text/plain": [
       "                      Geographic Area as of 7/13/2020  DailyCases  \\\n",
       "1   SOUTH COUNTY UNINCORPORATED AREA includes comm...           1   \n",
       "2   CITY OF SANTA BARBARA and the unincorporated a...           4   \n",
       "3                                      CITY OF GOLETA           1   \n",
       "4                             COMMUNITY OF ISLA VISTA           1   \n",
       "5   UNINCORPORATED AREA OF THE GOLETA VALLEY AND G...           2   \n",
       "6   SANTA YNEZ VALLEY including the Cities of Solv...           0   \n",
       "7   CITY OF LOMPOC and the communities of Mission ...           1   \n",
       "8                            FEDERAL PRISON IN LOMPOC           0   \n",
       "9                                 CITY OF SANTA MARIA          38   \n",
       "10                                COMMUNITY OF ORCUTT           2   \n",
       "11  UNINCORPORATED AREAS of Sisquoc, Casmalia, Gar...           3   \n",
       "12                                      Out of County           —   \n",
       "13                                            Pending           3   \n",
       "14                                              Total          56   \n",
       "\n",
       "   Total Confirmed Cases Recovered by Region Active Cases by Region  \\\n",
       "1                     77                  69                      7   \n",
       "2                    471                 417                     52   \n",
       "3                     85                  71                     12   \n",
       "4                     28                  24                      4   \n",
       "5                     68                  61                      6   \n",
       "6                     34                  27                      7   \n",
       "7                    226                 197                     25   \n",
       "8                    998                 994                      1   \n",
       "9                   1754                1570                    167   \n",
       "10                   123                 108                     14   \n",
       "11                   165                 151                     14   \n",
       "12                     —                   0                      0   \n",
       "13                   111                  91                     20   \n",
       "14                  4140                3780                    329   \n",
       "\n",
       "   Number of Deaths  \n",
       "1                 0  \n",
       "2                 3  \n",
       "3                 2  \n",
       "4                 0  \n",
       "5                 1  \n",
       "6                 0  \n",
       "7                 4  \n",
       "8                 3  \n",
       "9                18  \n",
       "10                0  \n",
       "11                0  \n",
       "12                —  \n",
       "13                —  \n",
       "14               31  "
      ]
     },
     "execution_count": 30,
     "metadata": {},
     "output_type": "execute_result"
    }
   ],
   "source": [
    "sb_df"
   ]
  },
  {
   "cell_type": "markdown",
   "metadata": {},
   "source": [
    "# Covid Cases per City in Riverside County"
   ]
  },
  {
   "cell_type": "code",
   "execution_count": 31,
   "metadata": {},
   "outputs": [],
   "source": [
    "import tabula\n",
    "from tabula import read_pdf"
   ]
  },
  {
   "cell_type": "code",
   "execution_count": 32,
   "metadata": {},
   "outputs": [
    {
     "name": "stderr",
     "output_type": "stream",
     "text": [
      "'pages' argument isn't specified.Will extract only from page 1 by default.\n"
     ]
    }
   ],
   "source": [
    "url = \"https://www.rivcoph.org/Portals/0/Documents/CoronaVirus/July/Dashboard/2/City_Report_071320.pdf?ver=2020-07-13-151405-373&timestamp=1594678461087\"\n",
    "df = read_pdf(url)"
   ]
  },
  {
   "cell_type": "code",
   "execution_count": 33,
   "metadata": {
    "scrolled": true
   },
   "outputs": [],
   "source": [
    "riverside_df = df[0]"
   ]
  },
  {
   "cell_type": "code",
   "execution_count": 34,
   "metadata": {},
   "outputs": [
    {
     "data": {
      "text/html": [
       "<div>\n",
       "<style scoped>\n",
       "    .dataframe tbody tr th:only-of-type {\n",
       "        vertical-align: middle;\n",
       "    }\n",
       "\n",
       "    .dataframe tbody tr th {\n",
       "        vertical-align: top;\n",
       "    }\n",
       "\n",
       "    .dataframe thead th {\n",
       "        text-align: right;\n",
       "    }\n",
       "</style>\n",
       "<table border=\"1\" class=\"dataframe\">\n",
       "  <thead>\n",
       "    <tr style=\"text-align: right;\">\n",
       "      <th></th>\n",
       "      <th>Name</th>\n",
       "      <th>Count</th>\n",
       "      <th>Death</th>\n",
       "      <th>Percentage ** of Overall Total</th>\n",
       "    </tr>\n",
       "  </thead>\n",
       "  <tbody>\n",
       "    <tr>\n",
       "      <th>0</th>\n",
       "      <td>County Jails</td>\n",
       "      <td>259</td>\n",
       "      <td>3</td>\n",
       "      <td>1.0%</td>\n",
       "    </tr>\n",
       "    <tr>\n",
       "      <th>1</th>\n",
       "      <td>State Prison</td>\n",
       "      <td>1,156</td>\n",
       "      <td>1</td>\n",
       "      <td>4.5%</td>\n",
       "    </tr>\n",
       "    <tr>\n",
       "      <th>2</th>\n",
       "      <td>Incorporated City</td>\n",
       "      <td>20,889</td>\n",
       "      <td>493</td>\n",
       "      <td>81.1%</td>\n",
       "    </tr>\n",
       "    <tr>\n",
       "      <th>3</th>\n",
       "      <td>Banning</td>\n",
       "      <td>284</td>\n",
       "      <td>10</td>\n",
       "      <td>1.1%</td>\n",
       "    </tr>\n",
       "    <tr>\n",
       "      <th>4</th>\n",
       "      <td>Beaumont</td>\n",
       "      <td>474</td>\n",
       "      <td>12</td>\n",
       "      <td>1.8%</td>\n",
       "    </tr>\n",
       "  </tbody>\n",
       "</table>\n",
       "</div>"
      ],
      "text/plain": [
       "                Name   Count  Death Percentage ** of Overall Total\n",
       "0       County Jails     259      3                           1.0%\n",
       "1       State Prison   1,156      1                           4.5%\n",
       "2  Incorporated City  20,889    493                          81.1%\n",
       "3            Banning     284     10                           1.1%\n",
       "4           Beaumont     474     12                           1.8%"
      ]
     },
     "execution_count": 34,
     "metadata": {},
     "output_type": "execute_result"
    }
   ],
   "source": [
    "riverside_df.head()"
   ]
  }
 ],
 "metadata": {
  "kernelspec": {
   "display_name": "Python 3",
   "language": "python",
   "name": "python3"
  },
  "language_info": {
   "codemirror_mode": {
    "name": "ipython",
    "version": 3
   },
   "file_extension": ".py",
   "mimetype": "text/x-python",
   "name": "python",
   "nbconvert_exporter": "python",
   "pygments_lexer": "ipython3",
   "version": "3.7.6"
  }
 },
 "nbformat": 4,
 "nbformat_minor": 4
}
