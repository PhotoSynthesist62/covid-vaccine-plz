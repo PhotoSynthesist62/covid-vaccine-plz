{
 "cells": [
  {
   "cell_type": "code",
   "execution_count": 1,
   "metadata": {},
   "outputs": [],
   "source": [
    "import os, ssl\n",
    "import requests\n",
    "import pandas as pd\n",
    "from splinter import Browser\n",
    "from bs4 import BeautifulSoup as bs"
   ]
  },
  {
   "cell_type": "code",
   "execution_count": 2,
   "metadata": {},
   "outputs": [],
   "source": [
    "executable_path = {'executable_path': 'chromedriver.exe'}\n",
    "browser = Browser('chrome', **executable_path, headless=False)"
   ]
  },
  {
   "cell_type": "markdown",
   "metadata": {},
   "source": [
    "# Covid Cases per City in OC  "
   ]
  },
  {
   "cell_type": "code",
   "execution_count": 3,
   "metadata": {},
   "outputs": [],
   "source": [
    "url = \"https://ochca.maps.arcgis.com/apps/opsdashboard/index.html#/2a169f85c2254dd7b43f95b095208356\"\n",
    "browser.visit(url)"
   ]
  },
  {
   "cell_type": "code",
   "execution_count": 4,
   "metadata": {},
   "outputs": [],
   "source": [
    "html = browser.html\n",
    "soup = bs(html,'html.parser')\n",
    "data = soup.find_all(\"nav\", class_=\"feature-list\")"
   ]
  },
  {
   "cell_type": "code",
   "execution_count": 5,
   "metadata": {},
   "outputs": [],
   "source": [
    "confirmed_case_data = data[0].find_all(\"p\")\n",
    "confirmed_case_city = []\n",
    "for i in confirmed_case_data:\n",
    "    a = i.text\n",
    "    b = a.split(\"-\")\n",
    "    city_name = b[0]\n",
    "    confirmed_case = b[1].split(\" \")[0][1:]\n",
    "    confirmed_case_city.append([city_name,confirmed_case])"
   ]
  },
  {
   "cell_type": "code",
   "execution_count": 6,
   "metadata": {},
   "outputs": [],
   "source": [
    "death_case_data = data[1].find_all(\"p\")\n",
    "death_case_city = []\n",
    "for i in death_case_data:\n",
    "    a = i.text\n",
    "    b = a.split(\"-\")\n",
    "    city_name = b[0]\n",
    "    if(\"Less\"in b[1]):\n",
    "        death_case = b[1][:-12]\n",
    "    else:\n",
    "        death_case = b[1].split(\" \")[1]\n",
    "    death_case_city.append([city_name, death_case])  "
   ]
  },
  {
   "cell_type": "code",
   "execution_count": 7,
   "metadata": {},
   "outputs": [],
   "source": [
    "oc_case_df = pd.DataFrame(confirmed_case_city)\n",
    "oc_death_df = pd.DataFrame(death_case_city)"
   ]
  },
  {
   "cell_type": "code",
   "execution_count": 8,
   "metadata": {},
   "outputs": [],
   "source": [
    "oc_case_df.columns = [\"City\",\"Confirmed_case\"]\n",
    "oc_death_df.columns = [\"City\",\"Death_case\"]"
   ]
  },
  {
   "cell_type": "code",
   "execution_count": 9,
   "metadata": {},
   "outputs": [],
   "source": [
    "orange_df = oc_case_df.merge(oc_death_df,how=\"inner\", on=\"City\")"
   ]
  },
  {
   "cell_type": "code",
   "execution_count": 10,
   "metadata": {},
   "outputs": [],
   "source": [
    "orange_df[\"County\"]=\"\"\n",
    "for index,row in orange_df.iterrows():\n",
    "    orange_df.loc[index,\"County\"] = \"Orange\""
   ]
  },
  {
   "cell_type": "code",
   "execution_count": 11,
   "metadata": {
    "scrolled": true
   },
   "outputs": [],
   "source": [
    "orange_county_df = orange_df[[\"County\",\"City\",\"Confirmed_case\",\"Death_case\"]]"
   ]
  },
  {
   "cell_type": "code",
   "execution_count": 12,
   "metadata": {},
   "outputs": [
    {
     "data": {
      "text/html": [
       "<div>\n",
       "<style scoped>\n",
       "    .dataframe tbody tr th:only-of-type {\n",
       "        vertical-align: middle;\n",
       "    }\n",
       "\n",
       "    .dataframe tbody tr th {\n",
       "        vertical-align: top;\n",
       "    }\n",
       "\n",
       "    .dataframe thead th {\n",
       "        text-align: right;\n",
       "    }\n",
       "</style>\n",
       "<table border=\"1\" class=\"dataframe\">\n",
       "  <thead>\n",
       "    <tr style=\"text-align: right;\">\n",
       "      <th></th>\n",
       "      <th>County</th>\n",
       "      <th>City</th>\n",
       "      <th>Confirmed_case</th>\n",
       "      <th>Death_case</th>\n",
       "    </tr>\n",
       "  </thead>\n",
       "  <tbody>\n",
       "    <tr>\n",
       "      <th>0</th>\n",
       "      <td>Orange</td>\n",
       "      <td>Aliso Viejo</td>\n",
       "      <td>215</td>\n",
       "      <td>1</td>\n",
       "    </tr>\n",
       "    <tr>\n",
       "      <th>1</th>\n",
       "      <td>Orange</td>\n",
       "      <td>Anaheim</td>\n",
       "      <td>4792</td>\n",
       "      <td>112</td>\n",
       "    </tr>\n",
       "    <tr>\n",
       "      <th>2</th>\n",
       "      <td>Orange</td>\n",
       "      <td>Brea</td>\n",
       "      <td>248</td>\n",
       "      <td>5</td>\n",
       "    </tr>\n",
       "    <tr>\n",
       "      <th>3</th>\n",
       "      <td>Orange</td>\n",
       "      <td>Buena Park</td>\n",
       "      <td>765</td>\n",
       "      <td>6</td>\n",
       "    </tr>\n",
       "    <tr>\n",
       "      <th>4</th>\n",
       "      <td>Orange</td>\n",
       "      <td>Costa Mesa</td>\n",
       "      <td>865</td>\n",
       "      <td>5</td>\n",
       "    </tr>\n",
       "  </tbody>\n",
       "</table>\n",
       "</div>"
      ],
      "text/plain": [
       "   County          City Confirmed_case Death_case\n",
       "0  Orange  Aliso Viejo             215          1\n",
       "1  Orange      Anaheim            4792        112\n",
       "2  Orange         Brea             248          5\n",
       "3  Orange   Buena Park             765          6\n",
       "4  Orange   Costa Mesa             865          5"
      ]
     },
     "execution_count": 12,
     "metadata": {},
     "output_type": "execute_result"
    }
   ],
   "source": [
    "orange_county_df.head()"
   ]
  },
  {
   "cell_type": "markdown",
   "metadata": {},
   "source": [
    "# Covid Cases per City in LA County¶"
   ]
  },
  {
   "cell_type": "code",
   "execution_count": 13,
   "metadata": {},
   "outputs": [],
   "source": [
    "url = \"http://publichealth.lacounty.gov/media/Coronavirus/locations.htm\"\n",
    "browser.visit(url)"
   ]
  },
  {
   "cell_type": "code",
   "execution_count": 14,
   "metadata": {},
   "outputs": [],
   "source": [
    "html = browser.html\n",
    "soup = bs(html,'html.parser')\n",
    "data = soup.find_all(\"tr\")"
   ]
  },
  {
   "cell_type": "code",
   "execution_count": 15,
   "metadata": {},
   "outputs": [],
   "source": [
    "LA_case = []\n",
    "for row in data:\n",
    "    list_td = row.find_all(\"td\")\n",
    "    temp_list = []\n",
    "    for item in list_td:\n",
    "        if(item.text):\n",
    "            temp_list.append(item.text)\n",
    "    if(temp_list):\n",
    "        if \"City of \" in temp_list[0]:\n",
    "            city_data = temp_list[0][8:];\n",
    "            temp_list[0] = city_data;\n",
    "            LA_case.append(temp_list)"
   ]
  },
  {
   "cell_type": "code",
   "execution_count": 16,
   "metadata": {},
   "outputs": [],
   "source": [
    "la_case_df = pd.DataFrame(LA_case)\n",
    "la_case_df.columns= [\"City\", \"Confirmed_case\", \"Case_Rate\", \"Death_case\", \"Death_Rate\"]"
   ]
  },
  {
   "cell_type": "code",
   "execution_count": 17,
   "metadata": {
    "scrolled": true
   },
   "outputs": [],
   "source": [
    "la_case_df[\"County\"]=\"\""
   ]
  },
  {
   "cell_type": "code",
   "execution_count": 18,
   "metadata": {},
   "outputs": [],
   "source": [
    "for index,row in la_case_df.iterrows():\n",
    "    la_case_df.loc[index,\"County\"] = \"Los Angeles\""
   ]
  },
  {
   "cell_type": "code",
   "execution_count": 19,
   "metadata": {},
   "outputs": [
    {
     "data": {
      "text/html": [
       "<div>\n",
       "<style scoped>\n",
       "    .dataframe tbody tr th:only-of-type {\n",
       "        vertical-align: middle;\n",
       "    }\n",
       "\n",
       "    .dataframe tbody tr th {\n",
       "        vertical-align: top;\n",
       "    }\n",
       "\n",
       "    .dataframe thead th {\n",
       "        text-align: right;\n",
       "    }\n",
       "</style>\n",
       "<table border=\"1\" class=\"dataframe\">\n",
       "  <thead>\n",
       "    <tr style=\"text-align: right;\">\n",
       "      <th></th>\n",
       "      <th>County</th>\n",
       "      <th>City</th>\n",
       "      <th>Confirmed_case</th>\n",
       "      <th>Death_case</th>\n",
       "    </tr>\n",
       "  </thead>\n",
       "  <tbody>\n",
       "    <tr>\n",
       "      <th>0</th>\n",
       "      <td>Los Angeles</td>\n",
       "      <td>Agoura Hills</td>\n",
       "      <td>86</td>\n",
       "      <td>1</td>\n",
       "    </tr>\n",
       "    <tr>\n",
       "      <th>1</th>\n",
       "      <td>Los Angeles</td>\n",
       "      <td>Alhambra</td>\n",
       "      <td>674</td>\n",
       "      <td>13</td>\n",
       "    </tr>\n",
       "    <tr>\n",
       "      <th>2</th>\n",
       "      <td>Los Angeles</td>\n",
       "      <td>Arcadia</td>\n",
       "      <td>244</td>\n",
       "      <td>12</td>\n",
       "    </tr>\n",
       "    <tr>\n",
       "      <th>3</th>\n",
       "      <td>Los Angeles</td>\n",
       "      <td>Artesia</td>\n",
       "      <td>175</td>\n",
       "      <td>3</td>\n",
       "    </tr>\n",
       "    <tr>\n",
       "      <th>4</th>\n",
       "      <td>Los Angeles</td>\n",
       "      <td>Avalon</td>\n",
       "      <td>5</td>\n",
       "      <td>0</td>\n",
       "    </tr>\n",
       "  </tbody>\n",
       "</table>\n",
       "</div>"
      ],
      "text/plain": [
       "        County          City Confirmed_case Death_case\n",
       "0  Los Angeles  Agoura Hills             86          1\n",
       "1  Los Angeles      Alhambra            674         13\n",
       "2  Los Angeles       Arcadia            244         12\n",
       "3  Los Angeles       Artesia            175          3\n",
       "4  Los Angeles        Avalon              5          0"
      ]
     },
     "execution_count": 19,
     "metadata": {},
     "output_type": "execute_result"
    }
   ],
   "source": [
    "la_county_df = la_case_df[[\"County\",\"City\",\"Confirmed_case\",\"Death_case\"]]\n",
    "la_county_df.head()"
   ]
  },
  {
   "cell_type": "markdown",
   "metadata": {},
   "source": [
    "# Covid Cases per City in San Diego County"
   ]
  },
  {
   "cell_type": "code",
   "execution_count": 23,
   "metadata": {},
   "outputs": [],
   "source": [
    "import tabula\n",
    "from tabula import read_pdf"
   ]
  },
  {
   "cell_type": "code",
   "execution_count": 24,
   "metadata": {},
   "outputs": [],
   "source": [
    "url = \"https://www.sandiegocounty.gov/content/dam/sdc/hhsa/programs/phs/Epidemiology/COVID-19%20Daily%20Update_City%20of%20Residence.pdf\""
   ]
  },
  {
   "cell_type": "code",
   "execution_count": 25,
   "metadata": {
    "scrolled": true
   },
   "outputs": [
    {
     "name": "stderr",
     "output_type": "stream",
     "text": [
      "'pages' argument isn't specified.Will extract only from page 1 by default.\n"
     ]
    }
   ],
   "source": [
    "df = read_pdf(url)"
   ]
  },
  {
   "cell_type": "code",
   "execution_count": 26,
   "metadata": {},
   "outputs": [],
   "source": [
    "sandiego_df = df[0].drop([0])"
   ]
  },
  {
   "cell_type": "code",
   "execution_count": 27,
   "metadata": {},
   "outputs": [
    {
     "data": {
      "text/html": [
       "<div>\n",
       "<style scoped>\n",
       "    .dataframe tbody tr th:only-of-type {\n",
       "        vertical-align: middle;\n",
       "    }\n",
       "\n",
       "    .dataframe tbody tr th {\n",
       "        vertical-align: top;\n",
       "    }\n",
       "\n",
       "    .dataframe thead th {\n",
       "        text-align: right;\n",
       "    }\n",
       "</style>\n",
       "<table border=\"1\" class=\"dataframe\">\n",
       "  <thead>\n",
       "    <tr style=\"text-align: right;\">\n",
       "      <th></th>\n",
       "      <th>Unnamed: 0</th>\n",
       "      <th>Summary of COVID-19 Cases by City of Residence, San Diego County</th>\n",
       "    </tr>\n",
       "  </thead>\n",
       "  <tbody>\n",
       "    <tr>\n",
       "      <th>1</th>\n",
       "      <td>Incorporated City</td>\n",
       "      <td>18,842 87.5% 664.3</td>\n",
       "    </tr>\n",
       "    <tr>\n",
       "      <th>2</th>\n",
       "      <td>Carlsbad</td>\n",
       "      <td>345 1.6% 299.4</td>\n",
       "    </tr>\n",
       "    <tr>\n",
       "      <th>3</th>\n",
       "      <td>Chula Vista</td>\n",
       "      <td>2,824 13.1% 1,040.5</td>\n",
       "    </tr>\n",
       "    <tr>\n",
       "      <th>4</th>\n",
       "      <td>Coronado</td>\n",
       "      <td>96 0.4% 396.7</td>\n",
       "    </tr>\n",
       "    <tr>\n",
       "      <th>5</th>\n",
       "      <td>Del Mar</td>\n",
       "      <td>24 0.1% ***</td>\n",
       "    </tr>\n",
       "  </tbody>\n",
       "</table>\n",
       "</div>"
      ],
      "text/plain": [
       "          Unnamed: 0  \\\n",
       "1  Incorporated City   \n",
       "2           Carlsbad   \n",
       "3        Chula Vista   \n",
       "4           Coronado   \n",
       "5            Del Mar   \n",
       "\n",
       "  Summary of COVID-19 Cases by City of Residence, San Diego County  \n",
       "1                                 18,842 87.5% 664.3                \n",
       "2                                     345 1.6% 299.4                \n",
       "3                                2,824 13.1% 1,040.5                \n",
       "4                                      96 0.4% 396.7                \n",
       "5                                        24 0.1% ***                "
      ]
     },
     "execution_count": 27,
     "metadata": {},
     "output_type": "execute_result"
    }
   ],
   "source": [
    "sandiego_df.head()"
   ]
  },
  {
   "cell_type": "code",
   "execution_count": 28,
   "metadata": {
    "scrolled": true
   },
   "outputs": [],
   "source": [
    "for index,row in sandiego_df.iterrows():\n",
    "    split_data = row[1].split()\n",
    "    length = len(split_data)\n",
    "    count = split_data[0]\n",
    "    if(length==3):\n",
    "        percentage_total = split_data[1]\n",
    "        rate_per_100000 = split_data[2]\n",
    "    elif (length==2):\n",
    "        percentage_total = split_data[1]\n",
    "        rate_per_100000 = \"\"\n",
    "    elif(length==1):\n",
    "        percentage_total = \"\"\n",
    "        rate_per_100000 = \"\"\n",
    "    sandiego_df.loc[index,\"count\"] = count\n",
    "    sandiego_df.loc[index,\"percentage_total\"] = percentage_total\n",
    "    sandiego_df.loc[index,\"rate_per_100000\"] = rate_per_100000"
   ]
  },
  {
   "cell_type": "code",
   "execution_count": 29,
   "metadata": {},
   "outputs": [],
   "source": [
    "sandiego_df.columns = [\"City\", \"Summary\", \"Confirmed_case\", \"Total_Rate\", \"Rate_per_10000\"]"
   ]
  },
  {
   "cell_type": "code",
   "execution_count": 30,
   "metadata": {
    "scrolled": true
   },
   "outputs": [],
   "source": [
    "sandiego_df[\"County\"]=\"\"\n",
    "sandiego_df[\"Death_case\"]=\"\""
   ]
  },
  {
   "cell_type": "code",
   "execution_count": 31,
   "metadata": {},
   "outputs": [],
   "source": [
    "for index,row in sandiego_df.iterrows():\n",
    "    sandiego_df.loc[index,\"County\"] = \"San Diego\""
   ]
  },
  {
   "cell_type": "code",
   "execution_count": 32,
   "metadata": {},
   "outputs": [
    {
     "data": {
      "text/html": [
       "<div>\n",
       "<style scoped>\n",
       "    .dataframe tbody tr th:only-of-type {\n",
       "        vertical-align: middle;\n",
       "    }\n",
       "\n",
       "    .dataframe tbody tr th {\n",
       "        vertical-align: top;\n",
       "    }\n",
       "\n",
       "    .dataframe thead th {\n",
       "        text-align: right;\n",
       "    }\n",
       "</style>\n",
       "<table border=\"1\" class=\"dataframe\">\n",
       "  <thead>\n",
       "    <tr style=\"text-align: right;\">\n",
       "      <th></th>\n",
       "      <th>County</th>\n",
       "      <th>City</th>\n",
       "      <th>Confirmed_case</th>\n",
       "      <th>Death_case</th>\n",
       "    </tr>\n",
       "  </thead>\n",
       "  <tbody>\n",
       "    <tr>\n",
       "      <th>1</th>\n",
       "      <td>San Diego</td>\n",
       "      <td>Incorporated City</td>\n",
       "      <td>18,842</td>\n",
       "      <td></td>\n",
       "    </tr>\n",
       "    <tr>\n",
       "      <th>2</th>\n",
       "      <td>San Diego</td>\n",
       "      <td>Carlsbad</td>\n",
       "      <td>345</td>\n",
       "      <td></td>\n",
       "    </tr>\n",
       "    <tr>\n",
       "      <th>3</th>\n",
       "      <td>San Diego</td>\n",
       "      <td>Chula Vista</td>\n",
       "      <td>2,824</td>\n",
       "      <td></td>\n",
       "    </tr>\n",
       "    <tr>\n",
       "      <th>4</th>\n",
       "      <td>San Diego</td>\n",
       "      <td>Coronado</td>\n",
       "      <td>96</td>\n",
       "      <td></td>\n",
       "    </tr>\n",
       "    <tr>\n",
       "      <th>5</th>\n",
       "      <td>San Diego</td>\n",
       "      <td>Del Mar</td>\n",
       "      <td>24</td>\n",
       "      <td></td>\n",
       "    </tr>\n",
       "  </tbody>\n",
       "</table>\n",
       "</div>"
      ],
      "text/plain": [
       "      County               City Confirmed_case Death_case\n",
       "1  San Diego  Incorporated City         18,842           \n",
       "2  San Diego           Carlsbad            345           \n",
       "3  San Diego        Chula Vista          2,824           \n",
       "4  San Diego           Coronado             96           \n",
       "5  San Diego            Del Mar             24           "
      ]
     },
     "execution_count": 32,
     "metadata": {},
     "output_type": "execute_result"
    }
   ],
   "source": [
    "sandiego_county_df = sandiego_df[[\"County\",\"City\",\"Confirmed_case\",\"Death_case\"]]\n",
    "sandiego_county_df.head()"
   ]
  },
  {
   "cell_type": "markdown",
   "metadata": {},
   "source": [
    "# Covid Cases per City in Santa Barbara County"
   ]
  },
  {
   "cell_type": "code",
   "execution_count": 33,
   "metadata": {},
   "outputs": [],
   "source": [
    "url = \"https://publichealthsbc.org/status-reports/\"\n",
    "browser.visit(url)"
   ]
  },
  {
   "cell_type": "code",
   "execution_count": 34,
   "metadata": {},
   "outputs": [],
   "source": [
    "html = browser.html\n",
    "soup = bs(html,'html.parser')\n",
    "data = soup.find_all(\"table\")"
   ]
  },
  {
   "cell_type": "code",
   "execution_count": 35,
   "metadata": {},
   "outputs": [],
   "source": [
    "a = data[0].find_all(\"tr\")"
   ]
  },
  {
   "cell_type": "code",
   "execution_count": 36,
   "metadata": {},
   "outputs": [],
   "source": [
    "sb_list = []\n",
    "for i in a:\n",
    "    j = i.find_all(\"td\")\n",
    "    temp_data = []\n",
    "    for data in j:\n",
    "        temp_data.append(data.text)\n",
    "    sb_list.append(temp_data)\n"
   ]
  },
  {
   "cell_type": "code",
   "execution_count": 37,
   "metadata": {},
   "outputs": [],
   "source": [
    "sb_df = pd.DataFrame(sb_list)"
   ]
  },
  {
   "cell_type": "code",
   "execution_count": 38,
   "metadata": {
    "scrolled": true
   },
   "outputs": [
    {
     "data": {
      "text/html": [
       "<div>\n",
       "<style scoped>\n",
       "    .dataframe tbody tr th:only-of-type {\n",
       "        vertical-align: middle;\n",
       "    }\n",
       "\n",
       "    .dataframe tbody tr th {\n",
       "        vertical-align: top;\n",
       "    }\n",
       "\n",
       "    .dataframe thead th {\n",
       "        text-align: right;\n",
       "    }\n",
       "</style>\n",
       "<table border=\"1\" class=\"dataframe\">\n",
       "  <thead>\n",
       "    <tr style=\"text-align: right;\">\n",
       "      <th></th>\n",
       "      <th>0</th>\n",
       "      <th>1</th>\n",
       "      <th>2</th>\n",
       "      <th>3</th>\n",
       "      <th>4</th>\n",
       "      <th>5</th>\n",
       "      <th>County</th>\n",
       "    </tr>\n",
       "  </thead>\n",
       "  <tbody>\n",
       "    <tr>\n",
       "      <th>0</th>\n",
       "      <td>Geographic Area as of 7/16/2020</td>\n",
       "      <td>DailyCases</td>\n",
       "      <td>Total Confirmed Cases</td>\n",
       "      <td>Recovered by Region</td>\n",
       "      <td>Active Cases by Region</td>\n",
       "      <td>Number of Deaths</td>\n",
       "      <td></td>\n",
       "    </tr>\n",
       "    <tr>\n",
       "      <th>1</th>\n",
       "      <td>SOUTH COUNTY UNINCORPORATED AREA includes comm...</td>\n",
       "      <td>4</td>\n",
       "      <td>85</td>\n",
       "      <td>80</td>\n",
       "      <td>4</td>\n",
       "      <td>0</td>\n",
       "      <td></td>\n",
       "    </tr>\n",
       "    <tr>\n",
       "      <th>2</th>\n",
       "      <td>CITY OF SANTA BARBARA and the unincorporated a...</td>\n",
       "      <td>44</td>\n",
       "      <td>544</td>\n",
       "      <td>491</td>\n",
       "      <td>51</td>\n",
       "      <td>3</td>\n",
       "      <td></td>\n",
       "    </tr>\n",
       "    <tr>\n",
       "      <th>3</th>\n",
       "      <td>CITY OF GOLETA</td>\n",
       "      <td>5</td>\n",
       "      <td>98</td>\n",
       "      <td>89</td>\n",
       "      <td>7</td>\n",
       "      <td>2</td>\n",
       "      <td></td>\n",
       "    </tr>\n",
       "    <tr>\n",
       "      <th>4</th>\n",
       "      <td>COMMUNITY OF ISLA VISTA</td>\n",
       "      <td>1</td>\n",
       "      <td>29</td>\n",
       "      <td>27</td>\n",
       "      <td>2</td>\n",
       "      <td>0</td>\n",
       "      <td></td>\n",
       "    </tr>\n",
       "    <tr>\n",
       "      <th>5</th>\n",
       "      <td>UNINCORPORATED AREA OF THE GOLETA VALLEY AND G...</td>\n",
       "      <td>5</td>\n",
       "      <td>74</td>\n",
       "      <td>66</td>\n",
       "      <td>7</td>\n",
       "      <td>1</td>\n",
       "      <td></td>\n",
       "    </tr>\n",
       "    <tr>\n",
       "      <th>6</th>\n",
       "      <td>SANTA YNEZ VALLEY including the Cities of Solv...</td>\n",
       "      <td>6</td>\n",
       "      <td>49</td>\n",
       "      <td>37</td>\n",
       "      <td>12</td>\n",
       "      <td>0</td>\n",
       "      <td></td>\n",
       "    </tr>\n",
       "    <tr>\n",
       "      <th>7</th>\n",
       "      <td>CITY OF LOMPOC and the communities of Mission ...</td>\n",
       "      <td>19</td>\n",
       "      <td>271</td>\n",
       "      <td>235</td>\n",
       "      <td>32</td>\n",
       "      <td>4</td>\n",
       "      <td></td>\n",
       "    </tr>\n",
       "    <tr>\n",
       "      <th>8</th>\n",
       "      <td>FEDERAL PRISON IN LOMPOC</td>\n",
       "      <td>1</td>\n",
       "      <td>1001</td>\n",
       "      <td>995</td>\n",
       "      <td>3</td>\n",
       "      <td>3</td>\n",
       "      <td></td>\n",
       "    </tr>\n",
       "    <tr>\n",
       "      <th>9</th>\n",
       "      <td>CITY OF SANTA MARIA</td>\n",
       "      <td>112</td>\n",
       "      <td>2036</td>\n",
       "      <td>1792</td>\n",
       "      <td>227</td>\n",
       "      <td>18</td>\n",
       "      <td></td>\n",
       "    </tr>\n",
       "    <tr>\n",
       "      <th>10</th>\n",
       "      <td>COMMUNITY OF ORCUTT</td>\n",
       "      <td>4</td>\n",
       "      <td>138</td>\n",
       "      <td>123</td>\n",
       "      <td>14</td>\n",
       "      <td>0</td>\n",
       "      <td></td>\n",
       "    </tr>\n",
       "    <tr>\n",
       "      <th>11</th>\n",
       "      <td>UNINCORPORATED AREAS of Sisquoc, Casmalia, Gar...</td>\n",
       "      <td>8</td>\n",
       "      <td>180</td>\n",
       "      <td>163</td>\n",
       "      <td>17</td>\n",
       "      <td>0</td>\n",
       "      <td></td>\n",
       "    </tr>\n",
       "    <tr>\n",
       "      <th>12</th>\n",
       "      <td>Out of County</td>\n",
       "      <td>—</td>\n",
       "      <td>—</td>\n",
       "      <td>0</td>\n",
       "      <td>0</td>\n",
       "      <td>1</td>\n",
       "      <td></td>\n",
       "    </tr>\n",
       "    <tr>\n",
       "      <th>13</th>\n",
       "      <td>Pending</td>\n",
       "      <td>15</td>\n",
       "      <td>130</td>\n",
       "      <td>91</td>\n",
       "      <td>38</td>\n",
       "      <td>—</td>\n",
       "      <td></td>\n",
       "    </tr>\n",
       "    <tr>\n",
       "      <th>14</th>\n",
       "      <td>Total</td>\n",
       "      <td>224</td>\n",
       "      <td>4635</td>\n",
       "      <td>4189</td>\n",
       "      <td>414</td>\n",
       "      <td>32</td>\n",
       "      <td></td>\n",
       "    </tr>\n",
       "  </tbody>\n",
       "</table>\n",
       "</div>"
      ],
      "text/plain": [
       "                                                    0            1  \\\n",
       "0                     Geographic Area as of 7/16/2020   DailyCases   \n",
       "1   SOUTH COUNTY UNINCORPORATED AREA includes comm...            4   \n",
       "2   CITY OF SANTA BARBARA and the unincorporated a...           44   \n",
       "3                                      CITY OF GOLETA            5   \n",
       "4                             COMMUNITY OF ISLA VISTA            1   \n",
       "5   UNINCORPORATED AREA OF THE GOLETA VALLEY AND G...            5   \n",
       "6   SANTA YNEZ VALLEY including the Cities of Solv...            6   \n",
       "7   CITY OF LOMPOC and the communities of Mission ...           19   \n",
       "8                            FEDERAL PRISON IN LOMPOC            1   \n",
       "9                                 CITY OF SANTA MARIA          112   \n",
       "10                                COMMUNITY OF ORCUTT            4   \n",
       "11  UNINCORPORATED AREAS of Sisquoc, Casmalia, Gar...            8   \n",
       "12                                      Out of County            —   \n",
       "13                                            Pending           15   \n",
       "14                                              Total          224   \n",
       "\n",
       "                        2                    3                       4  \\\n",
       "0   Total Confirmed Cases  Recovered by Region  Active Cases by Region   \n",
       "1                      85                   80                       4   \n",
       "2                     544                  491                      51   \n",
       "3                      98                   89                       7   \n",
       "4                      29                   27                       2   \n",
       "5                      74                   66                       7   \n",
       "6                      49                   37                      12   \n",
       "7                     271                  235                      32   \n",
       "8                    1001                  995                       3   \n",
       "9                    2036                 1792                     227   \n",
       "10                    138                  123                      14   \n",
       "11                    180                  163                      17   \n",
       "12                      —                    0                       0   \n",
       "13                    130                   91                      38   \n",
       "14                   4635                 4189                     414   \n",
       "\n",
       "                   5 County  \n",
       "0   Number of Deaths         \n",
       "1                  0         \n",
       "2                  3         \n",
       "3                  2         \n",
       "4                  0         \n",
       "5                  1         \n",
       "6                  0         \n",
       "7                  4         \n",
       "8                  3         \n",
       "9                 18         \n",
       "10                 0         \n",
       "11                 0         \n",
       "12                 1         \n",
       "13                 —         \n",
       "14                32         "
      ]
     },
     "execution_count": 38,
     "metadata": {},
     "output_type": "execute_result"
    }
   ],
   "source": [
    "sb_df[\"County\"]=\"\"\n",
    "sb_df"
   ]
  },
  {
   "cell_type": "code",
   "execution_count": 39,
   "metadata": {},
   "outputs": [],
   "source": [
    "sb_df.columns = [\"City\", \"DailyCases\", \"Confirmed_case\",\"recovered\",\"active\",\"Death_case\",\"County\"]"
   ]
  },
  {
   "cell_type": "code",
   "execution_count": 40,
   "metadata": {},
   "outputs": [],
   "source": [
    "sb_df.drop([0],inplace=True)"
   ]
  },
  {
   "cell_type": "code",
   "execution_count": 41,
   "metadata": {},
   "outputs": [],
   "source": [
    "for index,row in sb_df.iterrows():\n",
    "    sb_df.loc[index,\"County\"] = \"Santa Barbara\""
   ]
  },
  {
   "cell_type": "code",
   "execution_count": 42,
   "metadata": {},
   "outputs": [
    {
     "data": {
      "text/html": [
       "<div>\n",
       "<style scoped>\n",
       "    .dataframe tbody tr th:only-of-type {\n",
       "        vertical-align: middle;\n",
       "    }\n",
       "\n",
       "    .dataframe tbody tr th {\n",
       "        vertical-align: top;\n",
       "    }\n",
       "\n",
       "    .dataframe thead th {\n",
       "        text-align: right;\n",
       "    }\n",
       "</style>\n",
       "<table border=\"1\" class=\"dataframe\">\n",
       "  <thead>\n",
       "    <tr style=\"text-align: right;\">\n",
       "      <th></th>\n",
       "      <th>County</th>\n",
       "      <th>City</th>\n",
       "      <th>Confirmed_case</th>\n",
       "      <th>Death_case</th>\n",
       "    </tr>\n",
       "  </thead>\n",
       "  <tbody>\n",
       "    <tr>\n",
       "      <th>1</th>\n",
       "      <td>Santa Barbara</td>\n",
       "      <td>SOUTH COUNTY UNINCORPORATED AREA includes comm...</td>\n",
       "      <td>85</td>\n",
       "      <td>0</td>\n",
       "    </tr>\n",
       "    <tr>\n",
       "      <th>2</th>\n",
       "      <td>Santa Barbara</td>\n",
       "      <td>CITY OF SANTA BARBARA and the unincorporated a...</td>\n",
       "      <td>544</td>\n",
       "      <td>3</td>\n",
       "    </tr>\n",
       "    <tr>\n",
       "      <th>3</th>\n",
       "      <td>Santa Barbara</td>\n",
       "      <td>CITY OF GOLETA</td>\n",
       "      <td>98</td>\n",
       "      <td>2</td>\n",
       "    </tr>\n",
       "    <tr>\n",
       "      <th>4</th>\n",
       "      <td>Santa Barbara</td>\n",
       "      <td>COMMUNITY OF ISLA VISTA</td>\n",
       "      <td>29</td>\n",
       "      <td>0</td>\n",
       "    </tr>\n",
       "    <tr>\n",
       "      <th>5</th>\n",
       "      <td>Santa Barbara</td>\n",
       "      <td>UNINCORPORATED AREA OF THE GOLETA VALLEY AND G...</td>\n",
       "      <td>74</td>\n",
       "      <td>1</td>\n",
       "    </tr>\n",
       "    <tr>\n",
       "      <th>6</th>\n",
       "      <td>Santa Barbara</td>\n",
       "      <td>SANTA YNEZ VALLEY including the Cities of Solv...</td>\n",
       "      <td>49</td>\n",
       "      <td>0</td>\n",
       "    </tr>\n",
       "    <tr>\n",
       "      <th>7</th>\n",
       "      <td>Santa Barbara</td>\n",
       "      <td>CITY OF LOMPOC and the communities of Mission ...</td>\n",
       "      <td>271</td>\n",
       "      <td>4</td>\n",
       "    </tr>\n",
       "    <tr>\n",
       "      <th>8</th>\n",
       "      <td>Santa Barbara</td>\n",
       "      <td>FEDERAL PRISON IN LOMPOC</td>\n",
       "      <td>1001</td>\n",
       "      <td>3</td>\n",
       "    </tr>\n",
       "    <tr>\n",
       "      <th>9</th>\n",
       "      <td>Santa Barbara</td>\n",
       "      <td>CITY OF SANTA MARIA</td>\n",
       "      <td>2036</td>\n",
       "      <td>18</td>\n",
       "    </tr>\n",
       "    <tr>\n",
       "      <th>10</th>\n",
       "      <td>Santa Barbara</td>\n",
       "      <td>COMMUNITY OF ORCUTT</td>\n",
       "      <td>138</td>\n",
       "      <td>0</td>\n",
       "    </tr>\n",
       "    <tr>\n",
       "      <th>11</th>\n",
       "      <td>Santa Barbara</td>\n",
       "      <td>UNINCORPORATED AREAS of Sisquoc, Casmalia, Gar...</td>\n",
       "      <td>180</td>\n",
       "      <td>0</td>\n",
       "    </tr>\n",
       "    <tr>\n",
       "      <th>12</th>\n",
       "      <td>Santa Barbara</td>\n",
       "      <td>Out of County</td>\n",
       "      <td>—</td>\n",
       "      <td>1</td>\n",
       "    </tr>\n",
       "    <tr>\n",
       "      <th>13</th>\n",
       "      <td>Santa Barbara</td>\n",
       "      <td>Pending</td>\n",
       "      <td>130</td>\n",
       "      <td>—</td>\n",
       "    </tr>\n",
       "    <tr>\n",
       "      <th>14</th>\n",
       "      <td>Santa Barbara</td>\n",
       "      <td>Total</td>\n",
       "      <td>4635</td>\n",
       "      <td>32</td>\n",
       "    </tr>\n",
       "  </tbody>\n",
       "</table>\n",
       "</div>"
      ],
      "text/plain": [
       "           County                                               City  \\\n",
       "1   Santa Barbara  SOUTH COUNTY UNINCORPORATED AREA includes comm...   \n",
       "2   Santa Barbara  CITY OF SANTA BARBARA and the unincorporated a...   \n",
       "3   Santa Barbara                                     CITY OF GOLETA   \n",
       "4   Santa Barbara                            COMMUNITY OF ISLA VISTA   \n",
       "5   Santa Barbara  UNINCORPORATED AREA OF THE GOLETA VALLEY AND G...   \n",
       "6   Santa Barbara  SANTA YNEZ VALLEY including the Cities of Solv...   \n",
       "7   Santa Barbara  CITY OF LOMPOC and the communities of Mission ...   \n",
       "8   Santa Barbara                           FEDERAL PRISON IN LOMPOC   \n",
       "9   Santa Barbara                                CITY OF SANTA MARIA   \n",
       "10  Santa Barbara                                COMMUNITY OF ORCUTT   \n",
       "11  Santa Barbara  UNINCORPORATED AREAS of Sisquoc, Casmalia, Gar...   \n",
       "12  Santa Barbara                                      Out of County   \n",
       "13  Santa Barbara                                            Pending   \n",
       "14  Santa Barbara                                              Total   \n",
       "\n",
       "   Confirmed_case Death_case  \n",
       "1              85          0  \n",
       "2             544          3  \n",
       "3              98          2  \n",
       "4              29          0  \n",
       "5              74          1  \n",
       "6              49          0  \n",
       "7             271          4  \n",
       "8            1001          3  \n",
       "9            2036         18  \n",
       "10            138          0  \n",
       "11            180          0  \n",
       "12              —          1  \n",
       "13            130          —  \n",
       "14           4635         32  "
      ]
     },
     "execution_count": 42,
     "metadata": {},
     "output_type": "execute_result"
    }
   ],
   "source": [
    "santabarbara_county_df=sb_df[[\"County\",\"City\",\"Confirmed_case\",\"Death_case\"]]\n",
    "santabarbara_county_df"
   ]
  },
  {
   "cell_type": "markdown",
   "metadata": {},
   "source": [
    "# Covid Cases per City in Riverside County"
   ]
  },
  {
   "cell_type": "code",
   "execution_count": 43,
   "metadata": {},
   "outputs": [],
   "source": [
    "import tabula\n",
    "from tabula import read_pdf"
   ]
  },
  {
   "cell_type": "code",
   "execution_count": 44,
   "metadata": {},
   "outputs": [
    {
     "name": "stderr",
     "output_type": "stream",
     "text": [
      "'pages' argument isn't specified.Will extract only from page 1 by default.\n"
     ]
    }
   ],
   "source": [
    "url = \"https://www.rivcoph.org/Portals/0/Documents/CoronaVirus/July/Dashboard/2/City_Report_071320.pdf?ver=2020-07-13-151405-373&timestamp=1594678461087\"\n",
    "df = read_pdf(url)"
   ]
  },
  {
   "cell_type": "code",
   "execution_count": 45,
   "metadata": {
    "scrolled": true
   },
   "outputs": [],
   "source": [
    "riverside_df = df[0]\n",
    "riverside_df[\"County\"]=\"\""
   ]
  },
  {
   "cell_type": "code",
   "execution_count": 46,
   "metadata": {},
   "outputs": [],
   "source": [
    "for index,row in riverside_df.iterrows():\n",
    "    riverside_df.loc[index,\"County\"] = \"Riverside\""
   ]
  },
  {
   "cell_type": "code",
   "execution_count": 47,
   "metadata": {},
   "outputs": [],
   "source": [
    "riverside_df.columns=[\"City\",\"Confirmed_case\",\"Death_case\",\"Percentage\",\"County\"]"
   ]
  },
  {
   "cell_type": "code",
   "execution_count": 48,
   "metadata": {},
   "outputs": [
    {
     "data": {
      "text/html": [
       "<div>\n",
       "<style scoped>\n",
       "    .dataframe tbody tr th:only-of-type {\n",
       "        vertical-align: middle;\n",
       "    }\n",
       "\n",
       "    .dataframe tbody tr th {\n",
       "        vertical-align: top;\n",
       "    }\n",
       "\n",
       "    .dataframe thead th {\n",
       "        text-align: right;\n",
       "    }\n",
       "</style>\n",
       "<table border=\"1\" class=\"dataframe\">\n",
       "  <thead>\n",
       "    <tr style=\"text-align: right;\">\n",
       "      <th></th>\n",
       "      <th>County</th>\n",
       "      <th>City</th>\n",
       "      <th>Confirmed_case</th>\n",
       "      <th>Death_case</th>\n",
       "    </tr>\n",
       "  </thead>\n",
       "  <tbody>\n",
       "    <tr>\n",
       "      <th>0</th>\n",
       "      <td>Riverside</td>\n",
       "      <td>County Jails</td>\n",
       "      <td>259</td>\n",
       "      <td>3</td>\n",
       "    </tr>\n",
       "    <tr>\n",
       "      <th>1</th>\n",
       "      <td>Riverside</td>\n",
       "      <td>State Prison</td>\n",
       "      <td>1,156</td>\n",
       "      <td>1</td>\n",
       "    </tr>\n",
       "    <tr>\n",
       "      <th>2</th>\n",
       "      <td>Riverside</td>\n",
       "      <td>Incorporated City</td>\n",
       "      <td>20,889</td>\n",
       "      <td>493</td>\n",
       "    </tr>\n",
       "    <tr>\n",
       "      <th>3</th>\n",
       "      <td>Riverside</td>\n",
       "      <td>Banning</td>\n",
       "      <td>284</td>\n",
       "      <td>10</td>\n",
       "    </tr>\n",
       "    <tr>\n",
       "      <th>4</th>\n",
       "      <td>Riverside</td>\n",
       "      <td>Beaumont</td>\n",
       "      <td>474</td>\n",
       "      <td>12</td>\n",
       "    </tr>\n",
       "  </tbody>\n",
       "</table>\n",
       "</div>"
      ],
      "text/plain": [
       "      County               City Confirmed_case  Death_case\n",
       "0  Riverside       County Jails            259           3\n",
       "1  Riverside       State Prison          1,156           1\n",
       "2  Riverside  Incorporated City         20,889         493\n",
       "3  Riverside            Banning            284          10\n",
       "4  Riverside           Beaumont            474          12"
      ]
     },
     "execution_count": 48,
     "metadata": {},
     "output_type": "execute_result"
    }
   ],
   "source": [
    "riverside_county_df=riverside_df[[\"County\",\"City\",\"Confirmed_case\",\"Death_case\"]]\n",
    "riverside_county_df.head()"
   ]
  },
  {
   "cell_type": "markdown",
   "metadata": {},
   "source": [
    "# Covid Cases per City in San Bernadino County"
   ]
  },
  {
   "cell_type": "code",
   "execution_count": 49,
   "metadata": {},
   "outputs": [],
   "source": [
    "import os"
   ]
  },
  {
   "cell_type": "code",
   "execution_count": 50,
   "metadata": {
    "scrolled": true
   },
   "outputs": [],
   "source": [
    "url1 = \"Resources/COVID-19 PC Surveillance Dashboard_confirmed_files/saved_resource.html\"\n",
    "# url2 = \"COVID-19 PC Surveillance Dashboard_death.html\""
   ]
  },
  {
   "cell_type": "code",
   "execution_count": 51,
   "metadata": {},
   "outputs": [],
   "source": [
    "with open(url1, encoding = 'utf-8') as file:\n",
    "    html = file.read()   \n",
    "soup = bs(html,'html.parser')"
   ]
  },
  {
   "cell_type": "code",
   "execution_count": 52,
   "metadata": {},
   "outputs": [],
   "source": [
    "data = soup.find_all(\"tbody\")"
   ]
  },
  {
   "cell_type": "code",
   "execution_count": 53,
   "metadata": {},
   "outputs": [],
   "source": [
    "a = data[0].find_all(\"tr\")"
   ]
  },
  {
   "cell_type": "code",
   "execution_count": 54,
   "metadata": {
    "scrolled": false
   },
   "outputs": [],
   "source": [
    "list_index = len(a)-1;\n",
    "san_bernadino_list = [];\n",
    "b = a[0].find_all(\"p\")\n",
    "san_bernadino_list.append([b[0].text[2:], b[1].text, b[3].text, b[5].text])\n",
    "for index in range(list_index):\n",
    "    sb_value = a[index+1].find_all(\"p\");\n",
    "    temp_list = [];\n",
    "    for j in range(len(sb_value)):\n",
    "        if(j==0):\n",
    "            temp_list.append(sb_value[j].text[2:])\n",
    "        else:\n",
    "            temp_list.append(sb_value[j].text)\n",
    "    san_bernadino_list.append(temp_list)"
   ]
  },
  {
   "cell_type": "code",
   "execution_count": 55,
   "metadata": {},
   "outputs": [],
   "source": [
    "san_bernadino_df= pd.DataFrame(san_bernadino_list)"
   ]
  },
  {
   "cell_type": "code",
   "execution_count": 56,
   "metadata": {},
   "outputs": [],
   "source": [
    "san_bernadino_df.drop([0],inplace=True)"
   ]
  },
  {
   "cell_type": "code",
   "execution_count": 57,
   "metadata": {},
   "outputs": [
    {
     "data": {
      "text/html": [
       "<div>\n",
       "<style scoped>\n",
       "    .dataframe tbody tr th:only-of-type {\n",
       "        vertical-align: middle;\n",
       "    }\n",
       "\n",
       "    .dataframe tbody tr th {\n",
       "        vertical-align: top;\n",
       "    }\n",
       "\n",
       "    .dataframe thead th {\n",
       "        text-align: right;\n",
       "    }\n",
       "</style>\n",
       "<table border=\"1\" class=\"dataframe\">\n",
       "  <thead>\n",
       "    <tr style=\"text-align: right;\">\n",
       "      <th></th>\n",
       "      <th>0</th>\n",
       "      <th>1</th>\n",
       "      <th>2</th>\n",
       "      <th>3</th>\n",
       "    </tr>\n",
       "  </thead>\n",
       "  <tbody>\n",
       "    <tr>\n",
       "      <th>1</th>\n",
       "      <td>Adelanto</td>\n",
       "      <td>259</td>\n",
       "      <td>5</td>\n",
       "      <td>264</td>\n",
       "    </tr>\n",
       "    <tr>\n",
       "      <th>2</th>\n",
       "      <td>Angelus Oaks</td>\n",
       "      <td>0</td>\n",
       "      <td>1</td>\n",
       "      <td>1</td>\n",
       "    </tr>\n",
       "    <tr>\n",
       "      <th>3</th>\n",
       "      <td>Apple Valley</td>\n",
       "      <td>318</td>\n",
       "      <td>2</td>\n",
       "      <td>320</td>\n",
       "    </tr>\n",
       "    <tr>\n",
       "      <th>4</th>\n",
       "      <td>Argus</td>\n",
       "      <td>0</td>\n",
       "      <td>0</td>\n",
       "      <td>0</td>\n",
       "    </tr>\n",
       "    <tr>\n",
       "      <th>5</th>\n",
       "      <td>Arrowbear</td>\n",
       "      <td>0</td>\n",
       "      <td>0</td>\n",
       "      <td>0</td>\n",
       "    </tr>\n",
       "  </tbody>\n",
       "</table>\n",
       "</div>"
      ],
      "text/plain": [
       "              0    1  2    3\n",
       "1      Adelanto  259  5  264\n",
       "2  Angelus Oaks    0  1    1\n",
       "3  Apple Valley  318  2  320\n",
       "4         Argus    0  0    0\n",
       "5     Arrowbear    0  0    0"
      ]
     },
     "execution_count": 57,
     "metadata": {},
     "output_type": "execute_result"
    }
   ],
   "source": [
    "san_bernadino_df.head()"
   ]
  },
  {
   "cell_type": "code",
   "execution_count": 58,
   "metadata": {},
   "outputs": [],
   "source": [
    "url2 = \"Resources/COVID-19 PC Surveillance Dashboard_death_files/saved_resource.html\"\n",
    "with open(url2, encoding = 'utf-8') as file:\n",
    "    html = file.read()   \n",
    "soup = bs(html,'html.parser')"
   ]
  },
  {
   "cell_type": "code",
   "execution_count": 59,
   "metadata": {},
   "outputs": [],
   "source": [
    "data = soup.find_all(\"tbody\")"
   ]
  },
  {
   "cell_type": "code",
   "execution_count": 60,
   "metadata": {},
   "outputs": [],
   "source": [
    "a = data[1].find_all(\"tr\")"
   ]
  },
  {
   "cell_type": "code",
   "execution_count": 61,
   "metadata": {},
   "outputs": [],
   "source": [
    "list_index = len(a)-1;\n",
    "san_bernadino_list = [];\n",
    "b = a[0].find_all(\"p\")\n",
    "san_bernadino_list.append([b[0].text, b[1].text])\n",
    "for index in range(list_index):\n",
    "    sb_value = a[index+1].find_all(\"p\");\n",
    "    temp_list = [];\n",
    "    for j in range(len(sb_value)):\n",
    "        if(j==0):\n",
    "            temp_list.append(sb_value[j].text[0:])\n",
    "        else:\n",
    "            temp_list.append(sb_value[j].text)\n",
    "    san_bernadino_list.append(temp_list)"
   ]
  },
  {
   "cell_type": "code",
   "execution_count": 62,
   "metadata": {},
   "outputs": [],
   "source": [
    "san_death_df = pd.DataFrame(san_bernadino_list)"
   ]
  },
  {
   "cell_type": "code",
   "execution_count": 63,
   "metadata": {},
   "outputs": [],
   "source": [
    "san_death_df.drop([0],inplace=True)"
   ]
  },
  {
   "cell_type": "code",
   "execution_count": 64,
   "metadata": {},
   "outputs": [
    {
     "data": {
      "text/html": [
       "<div>\n",
       "<style scoped>\n",
       "    .dataframe tbody tr th:only-of-type {\n",
       "        vertical-align: middle;\n",
       "    }\n",
       "\n",
       "    .dataframe tbody tr th {\n",
       "        vertical-align: top;\n",
       "    }\n",
       "\n",
       "    .dataframe thead th {\n",
       "        text-align: right;\n",
       "    }\n",
       "</style>\n",
       "<table border=\"1\" class=\"dataframe\">\n",
       "  <thead>\n",
       "    <tr style=\"text-align: right;\">\n",
       "      <th></th>\n",
       "      <th>0</th>\n",
       "      <th>1</th>\n",
       "    </tr>\n",
       "  </thead>\n",
       "  <tbody>\n",
       "    <tr>\n",
       "      <th>1</th>\n",
       "      <td>Adelanto</td>\n",
       "      <td>5</td>\n",
       "    </tr>\n",
       "    <tr>\n",
       "      <th>2</th>\n",
       "      <td>Apple Valley</td>\n",
       "      <td>2</td>\n",
       "    </tr>\n",
       "    <tr>\n",
       "      <th>3</th>\n",
       "      <td>Barstow</td>\n",
       "      <td>2</td>\n",
       "    </tr>\n",
       "    <tr>\n",
       "      <th>4</th>\n",
       "      <td>Bloomington</td>\n",
       "      <td>5</td>\n",
       "    </tr>\n",
       "    <tr>\n",
       "      <th>5</th>\n",
       "      <td>Blue Jay</td>\n",
       "      <td>1</td>\n",
       "    </tr>\n",
       "  </tbody>\n",
       "</table>\n",
       "</div>"
      ],
      "text/plain": [
       "              0  1\n",
       "1      Adelanto  5\n",
       "2  Apple Valley  2\n",
       "3       Barstow  2\n",
       "4   Bloomington  5\n",
       "5      Blue Jay  1"
      ]
     },
     "execution_count": 64,
     "metadata": {},
     "output_type": "execute_result"
    }
   ],
   "source": [
    "san_death_df.head()"
   ]
  },
  {
   "cell_type": "code",
   "execution_count": 65,
   "metadata": {},
   "outputs": [],
   "source": [
    "san_bernadino_df.columns=[\"Location\",\"Community\",\"Outbreak\",\"Total\"]"
   ]
  },
  {
   "cell_type": "code",
   "execution_count": 66,
   "metadata": {},
   "outputs": [],
   "source": [
    "san_death_df.columns=[\"Location\",\"Deaths\"]"
   ]
  },
  {
   "cell_type": "code",
   "execution_count": 67,
   "metadata": {},
   "outputs": [],
   "source": [
    "total_san_bernadino_df = san_bernadino_df.merge(san_death_df,how='left', on = 'Location')"
   ]
  },
  {
   "cell_type": "code",
   "execution_count": 68,
   "metadata": {},
   "outputs": [],
   "source": [
    "total_san_bernadino_df.fillna(0, inplace=True)"
   ]
  },
  {
   "cell_type": "code",
   "execution_count": 69,
   "metadata": {},
   "outputs": [
    {
     "data": {
      "text/html": [
       "<div>\n",
       "<style scoped>\n",
       "    .dataframe tbody tr th:only-of-type {\n",
       "        vertical-align: middle;\n",
       "    }\n",
       "\n",
       "    .dataframe tbody tr th {\n",
       "        vertical-align: top;\n",
       "    }\n",
       "\n",
       "    .dataframe thead th {\n",
       "        text-align: right;\n",
       "    }\n",
       "</style>\n",
       "<table border=\"1\" class=\"dataframe\">\n",
       "  <thead>\n",
       "    <tr style=\"text-align: right;\">\n",
       "      <th></th>\n",
       "      <th>City</th>\n",
       "      <th>Community</th>\n",
       "      <th>Outbreak</th>\n",
       "      <th>Confirmed_case</th>\n",
       "      <th>Death_case</th>\n",
       "      <th>County</th>\n",
       "    </tr>\n",
       "  </thead>\n",
       "  <tbody>\n",
       "    <tr>\n",
       "      <th>0</th>\n",
       "      <td>Adelanto</td>\n",
       "      <td>259</td>\n",
       "      <td>5</td>\n",
       "      <td>264</td>\n",
       "      <td>5</td>\n",
       "      <td></td>\n",
       "    </tr>\n",
       "    <tr>\n",
       "      <th>1</th>\n",
       "      <td>Angelus Oaks</td>\n",
       "      <td>0</td>\n",
       "      <td>1</td>\n",
       "      <td>1</td>\n",
       "      <td>0</td>\n",
       "      <td></td>\n",
       "    </tr>\n",
       "    <tr>\n",
       "      <th>2</th>\n",
       "      <td>Apple Valley</td>\n",
       "      <td>318</td>\n",
       "      <td>2</td>\n",
       "      <td>320</td>\n",
       "      <td>2</td>\n",
       "      <td></td>\n",
       "    </tr>\n",
       "    <tr>\n",
       "      <th>3</th>\n",
       "      <td>Argus</td>\n",
       "      <td>0</td>\n",
       "      <td>0</td>\n",
       "      <td>0</td>\n",
       "      <td>0</td>\n",
       "      <td></td>\n",
       "    </tr>\n",
       "    <tr>\n",
       "      <th>4</th>\n",
       "      <td>Arrowbear</td>\n",
       "      <td>0</td>\n",
       "      <td>0</td>\n",
       "      <td>0</td>\n",
       "      <td>0</td>\n",
       "      <td></td>\n",
       "    </tr>\n",
       "  </tbody>\n",
       "</table>\n",
       "</div>"
      ],
      "text/plain": [
       "           City Community Outbreak Confirmed_case Death_case County\n",
       "0      Adelanto       259        5            264          5       \n",
       "1  Angelus Oaks         0        1              1          0       \n",
       "2  Apple Valley       318        2            320          2       \n",
       "3         Argus         0        0              0          0       \n",
       "4     Arrowbear         0        0              0          0       "
      ]
     },
     "execution_count": 69,
     "metadata": {},
     "output_type": "execute_result"
    }
   ],
   "source": [
    "total_san_bernadino_df[\"County\"]=\"\"\n",
    "total_san_bernadino_df.columns=[\"City\",\"Community\",\"Outbreak\",\"Confirmed_case\",\"Death_case\",\"County\"]\n",
    "total_san_bernadino_df.head()"
   ]
  },
  {
   "cell_type": "code",
   "execution_count": 70,
   "metadata": {},
   "outputs": [],
   "source": [
    "for index,row in total_san_bernadino_df.iterrows():\n",
    "    total_san_bernadino_df.loc[index,\"County\"] = \"San Bernardino\""
   ]
  },
  {
   "cell_type": "code",
   "execution_count": 71,
   "metadata": {},
   "outputs": [
    {
     "data": {
      "text/html": [
       "<div>\n",
       "<style scoped>\n",
       "    .dataframe tbody tr th:only-of-type {\n",
       "        vertical-align: middle;\n",
       "    }\n",
       "\n",
       "    .dataframe tbody tr th {\n",
       "        vertical-align: top;\n",
       "    }\n",
       "\n",
       "    .dataframe thead th {\n",
       "        text-align: right;\n",
       "    }\n",
       "</style>\n",
       "<table border=\"1\" class=\"dataframe\">\n",
       "  <thead>\n",
       "    <tr style=\"text-align: right;\">\n",
       "      <th></th>\n",
       "      <th>County</th>\n",
       "      <th>City</th>\n",
       "      <th>Confirmed_case</th>\n",
       "      <th>Death_case</th>\n",
       "    </tr>\n",
       "  </thead>\n",
       "  <tbody>\n",
       "    <tr>\n",
       "      <th>0</th>\n",
       "      <td>San Bernardino</td>\n",
       "      <td>Adelanto</td>\n",
       "      <td>264</td>\n",
       "      <td>5</td>\n",
       "    </tr>\n",
       "    <tr>\n",
       "      <th>1</th>\n",
       "      <td>San Bernardino</td>\n",
       "      <td>Angelus Oaks</td>\n",
       "      <td>1</td>\n",
       "      <td>0</td>\n",
       "    </tr>\n",
       "    <tr>\n",
       "      <th>2</th>\n",
       "      <td>San Bernardino</td>\n",
       "      <td>Apple Valley</td>\n",
       "      <td>320</td>\n",
       "      <td>2</td>\n",
       "    </tr>\n",
       "    <tr>\n",
       "      <th>3</th>\n",
       "      <td>San Bernardino</td>\n",
       "      <td>Argus</td>\n",
       "      <td>0</td>\n",
       "      <td>0</td>\n",
       "    </tr>\n",
       "    <tr>\n",
       "      <th>4</th>\n",
       "      <td>San Bernardino</td>\n",
       "      <td>Arrowbear</td>\n",
       "      <td>0</td>\n",
       "      <td>0</td>\n",
       "    </tr>\n",
       "  </tbody>\n",
       "</table>\n",
       "</div>"
      ],
      "text/plain": [
       "           County          City Confirmed_case Death_case\n",
       "0  San Bernardino      Adelanto            264          5\n",
       "1  San Bernardino  Angelus Oaks              1          0\n",
       "2  San Bernardino  Apple Valley            320          2\n",
       "3  San Bernardino         Argus              0          0\n",
       "4  San Bernardino     Arrowbear              0          0"
      ]
     },
     "execution_count": 71,
     "metadata": {},
     "output_type": "execute_result"
    }
   ],
   "source": [
    "sanbernadino_county_df=total_san_bernadino_df[[\"County\",\"City\",\"Confirmed_case\",\"Death_case\"]]\n",
    "sanbernadino_county_df.head()"
   ]
  },
  {
   "cell_type": "markdown",
   "metadata": {},
   "source": [
    "# Total Case for sourthern california except imperial, ventura"
   ]
  },
  {
   "cell_type": "code",
   "execution_count": 69,
   "metadata": {},
   "outputs": [],
   "source": [
    "total_city_df = pd.concat([orange_county_df,la_county_df,sandiego_county_df,riverside_county_df,sanbernadino_county_df,santabarbara_county_df])"
   ]
  },
  {
   "cell_type": "code",
   "execution_count": 70,
   "metadata": {},
   "outputs": [
    {
     "data": {
      "text/html": [
       "<div>\n",
       "<style scoped>\n",
       "    .dataframe tbody tr th:only-of-type {\n",
       "        vertical-align: middle;\n",
       "    }\n",
       "\n",
       "    .dataframe tbody tr th {\n",
       "        vertical-align: top;\n",
       "    }\n",
       "\n",
       "    .dataframe thead th {\n",
       "        text-align: right;\n",
       "    }\n",
       "</style>\n",
       "<table border=\"1\" class=\"dataframe\">\n",
       "  <thead>\n",
       "    <tr style=\"text-align: right;\">\n",
       "      <th></th>\n",
       "      <th>county</th>\n",
       "      <th>city</th>\n",
       "      <th>totalcountconfirmed</th>\n",
       "      <th>totalcountdeaths</th>\n",
       "    </tr>\n",
       "  </thead>\n",
       "  <tbody>\n",
       "    <tr>\n",
       "      <th>0</th>\n",
       "      <td>Orange</td>\n",
       "      <td>Aliso Viejo</td>\n",
       "      <td>206</td>\n",
       "      <td></td>\n",
       "    </tr>\n",
       "    <tr>\n",
       "      <th>1</th>\n",
       "      <td>Orange</td>\n",
       "      <td>Anaheim</td>\n",
       "      <td>4654</td>\n",
       "      <td></td>\n",
       "    </tr>\n",
       "    <tr>\n",
       "      <th>2</th>\n",
       "      <td>Orange</td>\n",
       "      <td>Brea</td>\n",
       "      <td>239</td>\n",
       "      <td></td>\n",
       "    </tr>\n",
       "    <tr>\n",
       "      <th>3</th>\n",
       "      <td>Orange</td>\n",
       "      <td>Buena Park</td>\n",
       "      <td>738</td>\n",
       "      <td></td>\n",
       "    </tr>\n",
       "    <tr>\n",
       "      <th>4</th>\n",
       "      <td>Orange</td>\n",
       "      <td>Costa Mesa</td>\n",
       "      <td>840</td>\n",
       "      <td></td>\n",
       "    </tr>\n",
       "  </tbody>\n",
       "</table>\n",
       "</div>"
      ],
      "text/plain": [
       "   county         city totalcountconfirmed totalcountdeaths\n",
       "0  Orange  Aliso Viejo                 206                 \n",
       "1  Orange      Anaheim                4654                 \n",
       "2  Orange         Brea                 239                 \n",
       "3  Orange   Buena Park                 738                 \n",
       "4  Orange   Costa Mesa                 840                 "
      ]
     },
     "execution_count": 70,
     "metadata": {},
     "output_type": "execute_result"
    }
   ],
   "source": [
    "total_city_df.columns=[\"county\",\"city\",\"totalcountconfirmed\",\"totalcountdeaths\"]\n",
    "total_city_df.head()"
   ]
  },
  {
   "cell_type": "code",
   "execution_count": 71,
   "metadata": {},
   "outputs": [],
   "source": [
    "from sqlalchemy import create_engine"
   ]
  },
  {
   "cell_type": "code",
   "execution_count": 72,
   "metadata": {},
   "outputs": [],
   "source": [
    "rds_connection_string = \"postgres:postgres@localhost:5432/covid-vaccine-plz\"\n",
    "engine = create_engine(f'postgresql://{rds_connection_string}')"
   ]
  },
  {
   "cell_type": "code",
   "execution_count": 73,
   "metadata": {},
   "outputs": [
    {
     "data": {
      "text/plain": [
       "['statewide_table']"
      ]
     },
     "execution_count": 73,
     "metadata": {},
     "output_type": "execute_result"
    }
   ],
   "source": [
    "engine.table_names()"
   ]
  },
  {
   "cell_type": "code",
   "execution_count": 74,
   "metadata": {},
   "outputs": [],
   "source": [
    "total_city_df.to_sql(name='citywide_table',con=engine,if_exists='append',index=False)"
   ]
  },
  {
   "cell_type": "code",
   "execution_count": 75,
   "metadata": {},
   "outputs": [
    {
     "data": {
      "text/html": [
       "<div>\n",
       "<style scoped>\n",
       "    .dataframe tbody tr th:only-of-type {\n",
       "        vertical-align: middle;\n",
       "    }\n",
       "\n",
       "    .dataframe tbody tr th {\n",
       "        vertical-align: top;\n",
       "    }\n",
       "\n",
       "    .dataframe thead th {\n",
       "        text-align: right;\n",
       "    }\n",
       "</style>\n",
       "<table border=\"1\" class=\"dataframe\">\n",
       "  <thead>\n",
       "    <tr style=\"text-align: right;\">\n",
       "      <th></th>\n",
       "      <th>county</th>\n",
       "      <th>city</th>\n",
       "      <th>totalcountconfirmed</th>\n",
       "      <th>totalcountdeaths</th>\n",
       "    </tr>\n",
       "  </thead>\n",
       "  <tbody>\n",
       "    <tr>\n",
       "      <th>0</th>\n",
       "      <td>Orange</td>\n",
       "      <td>Aliso Viejo</td>\n",
       "      <td>206</td>\n",
       "      <td></td>\n",
       "    </tr>\n",
       "    <tr>\n",
       "      <th>1</th>\n",
       "      <td>Orange</td>\n",
       "      <td>Anaheim</td>\n",
       "      <td>4654</td>\n",
       "      <td></td>\n",
       "    </tr>\n",
       "    <tr>\n",
       "      <th>2</th>\n",
       "      <td>Orange</td>\n",
       "      <td>Brea</td>\n",
       "      <td>239</td>\n",
       "      <td></td>\n",
       "    </tr>\n",
       "    <tr>\n",
       "      <th>3</th>\n",
       "      <td>Orange</td>\n",
       "      <td>Buena Park</td>\n",
       "      <td>738</td>\n",
       "      <td></td>\n",
       "    </tr>\n",
       "    <tr>\n",
       "      <th>4</th>\n",
       "      <td>Orange</td>\n",
       "      <td>Costa Mesa</td>\n",
       "      <td>840</td>\n",
       "      <td></td>\n",
       "    </tr>\n",
       "    <tr>\n",
       "      <th>...</th>\n",
       "      <td>...</td>\n",
       "      <td>...</td>\n",
       "      <td>...</td>\n",
       "      <td>...</td>\n",
       "    </tr>\n",
       "    <tr>\n",
       "      <th>292</th>\n",
       "      <td>Santa Barbara</td>\n",
       "      <td>COMMUNITY OF ORCUTT</td>\n",
       "      <td>134</td>\n",
       "      <td>0</td>\n",
       "    </tr>\n",
       "    <tr>\n",
       "      <th>293</th>\n",
       "      <td>Santa Barbara</td>\n",
       "      <td>UNINCORPORATED AREAS of Sisquoc, Casmalia, Gar...</td>\n",
       "      <td>172</td>\n",
       "      <td>0</td>\n",
       "    </tr>\n",
       "    <tr>\n",
       "      <th>294</th>\n",
       "      <td>Santa Barbara</td>\n",
       "      <td>Out of County</td>\n",
       "      <td>—</td>\n",
       "      <td>1</td>\n",
       "    </tr>\n",
       "    <tr>\n",
       "      <th>295</th>\n",
       "      <td>Santa Barbara</td>\n",
       "      <td>Pending</td>\n",
       "      <td>116</td>\n",
       "      <td>—</td>\n",
       "    </tr>\n",
       "    <tr>\n",
       "      <th>296</th>\n",
       "      <td>Santa Barbara</td>\n",
       "      <td>Total</td>\n",
       "      <td>4412</td>\n",
       "      <td>32</td>\n",
       "    </tr>\n",
       "  </tbody>\n",
       "</table>\n",
       "<p>297 rows × 4 columns</p>\n",
       "</div>"
      ],
      "text/plain": [
       "            county                                               city  \\\n",
       "0           Orange                                        Aliso Viejo   \n",
       "1           Orange                                            Anaheim   \n",
       "2           Orange                                               Brea   \n",
       "3           Orange                                         Buena Park   \n",
       "4           Orange                                         Costa Mesa   \n",
       "..             ...                                                ...   \n",
       "292  Santa Barbara                                COMMUNITY OF ORCUTT   \n",
       "293  Santa Barbara  UNINCORPORATED AREAS of Sisquoc, Casmalia, Gar...   \n",
       "294  Santa Barbara                                      Out of County   \n",
       "295  Santa Barbara                                            Pending   \n",
       "296  Santa Barbara                                              Total   \n",
       "\n",
       "    totalcountconfirmed totalcountdeaths  \n",
       "0                   206                   \n",
       "1                  4654                   \n",
       "2                   239                   \n",
       "3                   738                   \n",
       "4                   840                   \n",
       "..                  ...              ...  \n",
       "292                 134                0  \n",
       "293                 172                0  \n",
       "294                   —                1  \n",
       "295                 116                —  \n",
       "296                4412               32  \n",
       "\n",
       "[297 rows x 4 columns]"
      ]
     },
     "execution_count": 75,
     "metadata": {},
     "output_type": "execute_result"
    }
   ],
   "source": [
    "pd.read_sql_query('select* from citywide_table',con=engine)"
   ]
  },
  {
   "cell_type": "code",
   "execution_count": 76,
   "metadata": {},
   "outputs": [],
   "source": [
    "total_city_df.to_csv(\"./CSV/citywide.csv\", index=False)"
   ]
  },
  {
   "cell_type": "code",
   "execution_count": null,
   "metadata": {},
   "outputs": [],
   "source": []
  }
 ],
 "metadata": {
  "kernelspec": {
   "display_name": "Python 3",
   "language": "python",
   "name": "python3"
  },
  "language_info": {
   "codemirror_mode": {
    "name": "ipython",
    "version": 3
   },
   "file_extension": ".py",
   "mimetype": "text/x-python",
   "name": "python",
   "nbconvert_exporter": "python",
   "pygments_lexer": "ipython3",
   "version": "3.7.6"
  }
 },
 "nbformat": 4,
 "nbformat_minor": 4
}
